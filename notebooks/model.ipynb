{
 "cells": [
  {
   "cell_type": "code",
   "execution_count": 12,
   "id": "f534f1aa",
   "metadata": {},
   "outputs": [],
   "source": [
    "# importing libraries\n",
    "\n",
    "import tensorflow as tf\n",
    "import numpy as np\n",
    "import pandas as pd\n",
    "import matplotlib.pyplot as plt\n",
    "import cv2\n",
    "import os\n",
    "import seaborn as sns\n",
    "from tensorflow.keras.preprocessing.image import ImageDataGenerator\n",
    "from tensorflow.keras.utils import plot_model\n",
    "from tensorflow.keras.models import Model\n",
    "from tensorflow.keras.layers import Input, Conv2D, MaxPooling2D, Dense, Flatten, ZeroPadding2D, GlobalAveragePooling2D"
   ]
  },
  {
   "cell_type": "code",
   "execution_count": 5,
   "id": "1f638a05",
   "metadata": {},
   "outputs": [],
   "source": [
    "# Hyper parameters\n",
    "BATCH_SIZE = 32\n",
    "IMG_WIDTH, IMG_HEIGHT = 64, 64\n",
    "\n",
    "TRAIN_DATA_PATH = './data/train/'\n",
    "TEST_DATA_PATH = './data/test'\n",
    "VALID_DATA_PATH = './data/valid'\n"
   ]
  },
  {
   "cell_type": "code",
   "execution_count": 6,
   "id": "ea5c97c8",
   "metadata": {},
   "outputs": [],
   "source": [
    "def get_generator_from_dir(directory_path, batch_size_):\n",
    "    data_gen = ImageDataGenerator(rescale=1./255)\n",
    "    data_batch_generator = data_gen.flow_from_directory(\n",
    "        directory_path, color_mode = 'rgb', target_size = (IMG_WIDTH, IMG_HEIGHT), \n",
    "        batch_size=batch_size_)\n",
    "    \n",
    "    return data_batch_generator"
   ]
  },
  {
   "cell_type": "code",
   "execution_count": 7,
   "id": "b56cd55a",
   "metadata": {},
   "outputs": [
    {
     "name": "stdout",
     "output_type": "stream",
     "text": [
      "Found 4503 images belonging to 2 classes.\n",
      "Found 333 images belonging to 2 classes.\n",
      "Found 500 images belonging to 2 classes.\n"
     ]
    }
   ],
   "source": [
    "train_data = get_generator_from_dir(TRAIN_DATA_PATH, BATCH_SIZE)\n",
    "validation_data = get_generator_from_dir(VALID_DATA_PATH, BATCH_SIZE)\n",
    "test_data = get_generator_from_dir(TEST_DATA_PATH, BATCH_SIZE)"
   ]
  },
  {
   "cell_type": "code",
   "execution_count": 17,
   "id": "1051c518",
   "metadata": {},
   "outputs": [],
   "source": [
    "activation_layer = tf.keras.layers.LeakyReLU(alpha=0.1)\n",
    "visible = Input(shape=(IMG_WIDTH,IMG_HEIGHT,3),name='ip')\n",
    "conv1 = Conv2D(128, kernel_size=3, strides=(1,1), padding=\"valid\", activation=activation_layer,name='cn1')(visible)\n",
    "pool1 = MaxPooling2D(pool_size=(3, 3),strides=(2,2), padding=\"valid\",name='pl1')(conv1)\n",
    "\n",
    "conv2 = Conv2D(64, kernel_size=5, strides=(2,2), padding=\"valid\", activation=activation_layer,name='cn2')(pool1)\n",
    "pool2 = MaxPooling2D(pool_size=(3, 3),strides=(2,2), padding=\"valid\",name='pl2')(conv2)\n",
    "\n",
    "flat = Flatten(name='flat')(pool2)\n",
    "hidden1 = Dense(32, activation=activation_layer,name='hd1')(flat)\n",
    "output = Dense(2, activation='softmax',name='op')(hidden1)\n",
    "model = Model(inputs=visible, outputs=output)\n",
    "\n",
    "# Optimizers, loss function and performance metrics\n",
    "opt = tf.keras.optimizers.Adam(learning_rate=1e-4)\n",
    "cat_loss = tf.keras.losses.CategoricalCrossentropy()\n",
    "acc_metrics = [tf.keras.metrics.CategoricalAccuracy()]\n",
    "\n",
    "# Compiling the model\n",
    "model.compile(optimizer=opt, loss=cat_loss, metrics=acc_metrics)"
   ]
  },
  {
   "cell_type": "code",
   "execution_count": 18,
   "id": "f17f3b10",
   "metadata": {},
   "outputs": [
    {
     "name": "stdout",
     "output_type": "stream",
     "text": [
      "Model: \"model_2\"\n",
      "_________________________________________________________________\n",
      " Layer (type)                Output Shape              Param #   \n",
      "=================================================================\n",
      " ip (InputLayer)             [(None, 64, 64, 3)]       0         \n",
      "                                                                 \n",
      " cn1 (Conv2D)                (None, 62, 62, 128)       3584      \n",
      "                                                                 \n",
      " pl1 (MaxPooling2D)          (None, 30, 30, 128)       0         \n",
      "                                                                 \n",
      " cn2 (Conv2D)                (None, 13, 13, 64)        204864    \n",
      "                                                                 \n",
      " pl2 (MaxPooling2D)          (None, 6, 6, 64)          0         \n",
      "                                                                 \n",
      " flat (Flatten)              (None, 2304)              0         \n",
      "                                                                 \n",
      " hd1 (Dense)                 (None, 32)                73760     \n",
      "                                                                 \n",
      " op (Dense)                  (None, 2)                 66        \n",
      "                                                                 \n",
      "=================================================================\n",
      "Total params: 282,274\n",
      "Trainable params: 282,274\n",
      "Non-trainable params: 0\n",
      "_________________________________________________________________\n"
     ]
    }
   ],
   "source": [
    "model.summary()"
   ]
  },
  {
   "cell_type": "code",
   "execution_count": 19,
   "id": "7bf7f0d8",
   "metadata": {},
   "outputs": [
    {
     "name": "stdout",
     "output_type": "stream",
     "text": [
      "Epoch 1/10\n",
      "141/141 [==============================] - 165s 1s/step - loss: 0.6006 - categorical_accuracy: 0.6755 - val_loss: 0.5691 - val_categorical_accuracy: 0.6577\n",
      "Epoch 2/10\n",
      "141/141 [==============================] - 170s 1s/step - loss: 0.5149 - categorical_accuracy: 0.7304 - val_loss: 0.4994 - val_categorical_accuracy: 0.7267\n",
      "Epoch 3/10\n",
      "141/141 [==============================] - 195s 1s/step - loss: 0.4862 - categorical_accuracy: 0.7524 - val_loss: 0.4817 - val_categorical_accuracy: 0.7598\n",
      "Epoch 4/10\n",
      "141/141 [==============================] - 206s 1s/step - loss: 0.4646 - categorical_accuracy: 0.7650 - val_loss: 0.4563 - val_categorical_accuracy: 0.7688\n",
      "Epoch 5/10\n",
      "141/141 [==============================] - 86s 607ms/step - loss: 0.4350 - categorical_accuracy: 0.7897 - val_loss: 0.4525 - val_categorical_accuracy: 0.7628\n",
      "Epoch 6/10\n",
      "141/141 [==============================] - 65s 464ms/step - loss: 0.3995 - categorical_accuracy: 0.8159 - val_loss: 0.3876 - val_categorical_accuracy: 0.8138\n",
      "Epoch 7/10\n",
      "141/141 [==============================] - 66s 464ms/step - loss: 0.3693 - categorical_accuracy: 0.8330 - val_loss: 0.4301 - val_categorical_accuracy: 0.7928\n",
      "Epoch 8/10\n",
      "141/141 [==============================] - 83s 589ms/step - loss: 0.3455 - categorical_accuracy: 0.8483 - val_loss: 0.3501 - val_categorical_accuracy: 0.8589\n",
      "Epoch 9/10\n",
      "141/141 [==============================] - 82s 585ms/step - loss: 0.3280 - categorical_accuracy: 0.8581 - val_loss: 0.3240 - val_categorical_accuracy: 0.8529\n",
      "Epoch 10/10\n",
      "141/141 [==============================] - 71s 502ms/step - loss: 0.3141 - categorical_accuracy: 0.8668 - val_loss: 0.3299 - val_categorical_accuracy: 0.8589\n"
     ]
    }
   ],
   "source": [
    "model_train = model.fit(train_data, batch_size = BATCH_SIZE, validation_data = validation_data, epochs=10)"
   ]
  },
  {
   "cell_type": "code",
   "execution_count": 20,
   "id": "573fd73a",
   "metadata": {},
   "outputs": [
    {
     "name": "stdout",
     "output_type": "stream",
     "text": [
      "16/16 [==============================] - 2s 134ms/step - loss: 0.3106 - categorical_accuracy: 0.8800\n"
     ]
    }
   ],
   "source": [
    "y = model.evaluate(test_data)"
   ]
  },
  {
   "cell_type": "code",
   "execution_count": 21,
   "id": "520f859a",
   "metadata": {},
   "outputs": [],
   "source": [
    "model.save('cdd_model.h5')"
   ]
  },
  {
   "cell_type": "code",
   "execution_count": null,
   "id": "d4be46bc",
   "metadata": {},
   "outputs": [],
   "source": []
  }
 ],
 "metadata": {
  "kernelspec": {
   "display_name": "Python 3 (ipykernel)",
   "language": "python",
   "name": "python3"
  },
  "language_info": {
   "codemirror_mode": {
    "name": "ipython",
    "version": 3
   },
   "file_extension": ".py",
   "mimetype": "text/x-python",
   "name": "python",
   "nbconvert_exporter": "python",
   "pygments_lexer": "ipython3",
   "version": "3.9.13"
  }
 },
 "nbformat": 4,
 "nbformat_minor": 5
}
